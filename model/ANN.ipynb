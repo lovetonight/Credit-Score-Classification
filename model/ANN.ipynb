{
 "cells": [
  {
   "cell_type": "code",
   "execution_count": 18,
   "metadata": {},
   "outputs": [],
   "source": [
    "import sys\n",
    "sys.path.append('../')"
   ]
  },
  {
   "cell_type": "code",
   "execution_count": 19,
   "metadata": {},
   "outputs": [],
   "source": [
    "from data.get_data import get_data\n",
    "from sklearn.model_selection import train_test_split\n",
    "from keras.models import Sequential\n",
    "from keras.layers import Dense, Dropout, Flatten\n",
    "from tensorflow.keras.optimizers import Adam\n",
    "from keras.utils import to_categorical\n",
    "from sklearn.metrics import confusion_matrix\n",
    "from sklearn.metrics import precision_recall_fscore_support\n",
    "import numpy as np\n",
    "import seaborn as sns\n",
    "import matplotlib.pyplot as plt\n"
   ]
  },
  {
   "cell_type": "code",
   "execution_count": 20,
   "metadata": {},
   "outputs": [],
   "source": [
    "batch_size = 10  # Kích thước batch\n",
    "num_classes = 5  # 10 lớp\n",
    "epochs = 10    # Số epoches"
   ]
  },
  {
   "cell_type": "code",
   "execution_count": 21,
   "metadata": {},
   "outputs": [],
   "source": [
    "X, y = get_data()\n",
    "y = to_categorical(y)\n",
    "X_train, X_test, y_train, y_test = train_test_split(X, y, test_size=0.2, stratify=y, random_state=42)"
   ]
  },
  {
   "cell_type": "code",
   "execution_count": 22,
   "metadata": {},
   "outputs": [
    {
     "name": "stdout",
     "output_type": "stream",
     "text": [
      "Model: \"sequential_2\"\n",
      "_________________________________________________________________\n",
      " Layer (type)                Output Shape              Param #   \n",
      "=================================================================\n",
      " dense_4 (Dense)             (None, 10)                170       \n",
      "                                                                 \n",
      " dense_5 (Dense)             (None, 5)                 55        \n",
      "                                                                 \n",
      "=================================================================\n",
      "Total params: 225 (900.00 Byte)\n",
      "Trainable params: 225 (900.00 Byte)\n",
      "Non-trainable params: 0 (0.00 Byte)\n",
      "_________________________________________________________________\n"
     ]
    }
   ],
   "source": [
    "\n",
    "model = Sequential()\n",
    "\n",
    "# input shape\n",
    "model.add(Dense(10, activation='relu', input_shape=(16,)))\n",
    "# model.add(Dense(28, activation='relu'))\n",
    "model.add(Dense(num_classes, activation='softmax'))\n",
    "\n",
    "model.summary()"
   ]
  },
  {
   "cell_type": "code",
   "execution_count": 23,
   "metadata": {},
   "outputs": [],
   "source": [
    "model.compile(loss='categorical_crossentropy',\n",
    "              optimizer=Adam(learning_rate=0.001),\n",
    "              metrics=['accuracy'])"
   ]
  },
  {
   "cell_type": "code",
   "execution_count": 24,
   "metadata": {},
   "outputs": [
    {
     "name": "stdout",
     "output_type": "stream",
     "text": [
      "Epoch 1/10\n",
      "20113/20113 [==============================] - 31s 2ms/step - loss: 1.2433 - accuracy: 0.9486\n",
      "Epoch 2/10\n",
      "20113/20113 [==============================] - 25s 1ms/step - loss: 0.1873 - accuracy: 0.9577\n",
      "Epoch 3/10\n",
      "20113/20113 [==============================] - 13s 644us/step - loss: 0.1076 - accuracy: 0.9628\n",
      "Epoch 4/10\n",
      "20113/20113 [==============================] - 12s 605us/step - loss: 0.1021 - accuracy: 0.9645\n",
      "Epoch 5/10\n",
      "20113/20113 [==============================] - 12s 587us/step - loss: 0.0998 - accuracy: 0.9648\n",
      "Epoch 6/10\n",
      "20113/20113 [==============================] - 12s 607us/step - loss: 0.0996 - accuracy: 0.9650\n",
      "Epoch 7/10\n",
      "20113/20113 [==============================] - 12s 604us/step - loss: 0.1030 - accuracy: 0.9618\n",
      "Epoch 8/10\n",
      "20113/20113 [==============================] - 12s 598us/step - loss: 0.0974 - accuracy: 0.9632\n",
      "Epoch 9/10\n",
      "20113/20113 [==============================] - 14s 690us/step - loss: 0.1001 - accuracy: 0.9644\n",
      "Epoch 10/10\n",
      "20113/20113 [==============================] - 12s 611us/step - loss: 0.1063 - accuracy: 0.9626\n"
     ]
    }
   ],
   "source": [
    "H = model.fit(X_train, y_train,\n",
    "          batch_size=batch_size,\n",
    "          epochs=epochs,\n",
    "          verbose=1, # log or not\n",
    ")"
   ]
  },
  {
   "cell_type": "code",
   "execution_count": 25,
   "metadata": {},
   "outputs": [
    {
     "name": "stdout",
     "output_type": "stream",
     "text": [
      "1572/1572 [==============================] - 1s 478us/step\n",
      "+ precision = 0.623\n",
      "+ recall = 0.551\n",
      "+ f1_score = 0.560\n"
     ]
    },
    {
     "name": "stderr",
     "output_type": "stream",
     "text": [
      "/home/trhoan/.local/lib/python3.10/site-packages/sklearn/metrics/_classification.py:1497: UndefinedMetricWarning: Precision is ill-defined and being set to 0.0 in labels with no predicted samples. Use `zero_division` parameter to control this behavior.\n",
      "  _warn_prf(average, modifier, f\"{metric.capitalize()} is\", len(result))\n"
     ]
    },
    {
     "data": {
      "image/png": "[encoded data removed]",
      "text/plain": [
       "<Figure size 800x600 with 2 Axes>"
      ]
     },
     "metadata": {},
     "output_type": "display_data"
    }
   ],
   "source": [
    "y_pred = model.predict(X_test)\n",
    "y_pred = np.argmax(y_pred ,axis = 1)\n",
    "y_true=np.argmax(y_test,axis = 1)\n",
    "a = precision_recall_fscore_support(y_true, y_pred, average='macro')\n",
    "cf = confusion_matrix(y_true,y_pred)\n",
    "\n",
    "print(f'+ precision = {a[0]:.3f}')\n",
    "print(f'+ recall = {a[1]:.3f}')\n",
    "print(f'+ f1_score = {a[2]:.3f}')\n",
    "plt.figure(figsize = (8,6))\n",
    "ax = sns.heatmap(data=cf ,fmt=\"d\",annot = True)\n",
    "ax.set_xlabel(\"Predicted Labels\")\n",
    "ax.set_ylabel(\"True Labels\")\n",
    "plt.show()"
   ]
  }
 ],
 "metadata": {
  "kernelspec": {
   "display_name": "Python 3",
   "language": "python",
   "name": "python3"
  },
  "language_info": {
   "codemirror_mode": {
    "name": "ipython",
    "version": 3
   },
   "file_extension": ".py",
   "mimetype": "text/x-python",
   "name": "python",
   "nbconvert_exporter": "python",
   "pygments_lexer": "ipython3",
   "version": "3.10.12"
  }
 },
 "nbformat": 4,
 "nbformat_minor": 2
}
