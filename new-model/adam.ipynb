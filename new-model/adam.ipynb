{
 "cells": [
  {
   "cell_type": "code",
   "execution_count": 40,
   "metadata": {},
   "outputs": [],
   "source": [
    "import pandas as pd\n",
    "from sklearn.metrics import accuracy_score\n",
    "import numpy as np\n",
    "from datetime import datetime, timedelta\n",
    "import matplotlib.pyplot as plt\n",
    "import numpy as np\n",
    "import tensorflow as tf\n",
    "from detect_outlier import *\n",
    "from sklearn.model_selection import train_test_split\n"
   ]
  },
  {
   "cell_type": "code",
   "execution_count": 41,
   "metadata": {},
   "outputs": [],
   "source": [
    "df = read_data()\n",
    "df = df.dropna()"
   ]
  },
  {
   "cell_type": "code",
   "execution_count": 42,
   "metadata": {},
   "outputs": [],
   "source": [
    "df_normalized =df.drop(\"address\", axis= 1).drop(\"createdAt\", axis= 1)\n",
    "label_column = df['main_label']\n",
    "sub_label_column = df['sub_label']\n",
    "df_normalized = (df_normalized - df_normalized.min()) / (df_normalized.max() - df_normalized.min())\n",
    "df_normalized = df_normalized * 550 + 300\n",
    "df_normalized['main_label'] = main_label_column\n",
    "df_normalized['sub_label'] = sub_label_column\n"
   ]
  },
  {
   "cell_type": "code",
   "execution_count": 43,
   "metadata": {},
   "outputs": [],
   "source": [
    "def score(label):\n",
    "    if label == 0:\n",
    "        return np.random.randint(300, 580)\n",
    "    if label == 1:\n",
    "        return np.random.randint(580, 670)\n",
    "    if label == 2:\n",
    "        return np.random.randint(670, 740)\n",
    "    if label == 3:\n",
    "        return np.random.randint(740, 800)\n",
    "    if label == 4:\n",
    "        return np.random.randint(800, 850)\n",
    "\n",
    "\n",
    "def labeling(scores):\n",
    "    label = []\n",
    "    for score in scores:\n",
    "        if score < 580:\n",
    "            label.append(0)\n",
    "        elif score >= 580 and score < 670:\n",
    "            label.append(1)\n",
    "        elif score >= 670 and score < 740:\n",
    "            label.append(2)\n",
    "        elif score >= 740 and score < 800:\n",
    "            label.append(3)\n",
    "        elif score >= 800:\n",
    "            label.append(4)\n",
    "    return np.array(label)"
   ]
  },
  {
   "cell_type": "code",
   "execution_count": null,
   "metadata": {},
   "outputs": [],
   "source": []
  },
  {
   "cell_type": "code",
   "execution_count": 44,
   "metadata": {},
   "outputs": [],
   "source": [
    "X = np.array(df_normalized[\n",
    "    [\n",
    "        \"balanceInUSD\",\n",
    "        # \"borrowInUSD\",\n",
    "        # \"depositInUSD\",\n",
    "        \"averageTotalAsset\",\n",
    "        \"frequencyMountOfTransaction\",\n",
    "        \"borrow_per_balance\",\n",
    "        \"deposit_per_balance\",\n",
    "        \"borrow_per_deposit\",\n",
    "        \"totalValueOfLiquidation\",\n",
    "        \"numberOfLiquidation\",\n",
    "        \"frequencyOfTransaction\",\n",
    "        \"frequencyOfDappTransactions\",\n",
    "        \"numberOfInteractedDapps\",\n",
    "        \"typesOfInteractedDapps\",\n",
    "        \"numberOfReputableDapps\",\n",
    "        \"age\",\n",
    "    ]\n",
    "].values)\n",
    "main_y = df_normalized[\"main_label\"].values\n",
    "sub_y = df_normalized[\"sub_label\"].values\n",
    "\n",
    "X_train, X_test, main_y_train, main_y_test, sub_y_train, sub_y_test  = train_test_split(\n",
    "            X, main_y, sub_y, test_size=0.2, random_state=42\n",
    "        )\n",
    "# Chuẩn bị dữ liệu\n"
   ]
  },
  {
   "cell_type": "code",
   "execution_count": 45,
   "metadata": {},
   "outputs": [
    {
     "data": {
      "text/plain": [
       "16729"
      ]
     },
     "execution_count": 45,
     "metadata": {},
     "output_type": "execute_result"
    }
   ],
   "source": [
    "X_train.shape[0]"
   ]
  },
  {
   "cell_type": "code",
   "execution_count": 46,
   "metadata": {},
   "outputs": [
    {
     "name": "stdout",
     "output_type": "stream",
     "text": [
      "Vector trọng số tối ưu: [ 0.44882406 -0.08729184 -0.10223234 -0.28768874 -0.15245593 -0.19518524\n",
      "  0.27720341  0.2622802  -0.07231391  0.17860991  0.57653186  0.60278579\n",
      "  0.51849399  0.27414808]\n"
     ]
    }
   ],
   "source": [
    "import numpy as np\n",
    "\n",
    "# Hàm tính giá trị của hàm lỗi (MSE)\n",
    "def mean_squared_error(X, y, sub_y,  w):\n",
    "    n = len(y)\n",
    "    y_pred = labeling(np.dot(X, w))\n",
    "    mse = np.sum((y - y_pred) ** 2) / n\n",
    "    return mse\n",
    "\n",
    "# Hàm tính gradient của hàm lỗi (MSE)\n",
    "def gradient_mean_squared_error(X, y, w):\n",
    "    n = len(y)\n",
    "    y_pred = labeling(np.dot(X, w))\n",
    "    error = y_pred - y\n",
    "    # TODO: Modify Error Function\n",
    "    gradient = 2 * np.dot(X.T, error) / n\n",
    "    return gradient\n",
    "\n",
    "# Gradient descent để tối ưu hóa hàm lỗi (MSE)\n",
    "def adam(X, y, learning_rate=0.001, beta1=0.9, beta2=0.999, epsilon=1e-8, num_iterations=1000):\n",
    "    # Khởi tạo vector trọng số ngẫu nhiên\n",
    "    w = np.random.rand(X.shape[1])\n",
    "    m = np.zeros_like(w)\n",
    "    v = np.zeros_like(w)\n",
    "    t = 0\n",
    "    \n",
    "    for _ in range(num_iterations):\n",
    "        # Chọn ngẫu nhiên một mẫu từ dữ liệu\n",
    "        random_index = np.random.randint(0, len(X))\n",
    "        X_sample = X[random_index:random_index+1]\n",
    "        y_sample = y[random_index:random_index+1]\n",
    "        \n",
    "        # Tính gradient của hàm lỗi cho mẫu đã chọn\n",
    "        grad = gradient_mean_squared_error(X_sample, y_sample, w)\n",
    "        \n",
    "        # Tính trung bình độ lớn của gradient và gradient bình phương\n",
    "        m = beta1 * m + (1 - beta1) * grad\n",
    "        v = beta2 * v + (1 - beta2) * (grad ** 2)\n",
    "        \n",
    "        # Bias correction\n",
    "        m_hat = m / (1 - beta1**(t+1))\n",
    "        v_hat = v / (1 - beta2**(t+1))\n",
    "        \n",
    "        # Cập nhật vector trọng số\n",
    "        w -= learning_rate * m_hat / (np.sqrt(v_hat) + epsilon)\n",
    "        \n",
    "        t += 1\n",
    "        \n",
    "    \n",
    "    return w\n",
    "\n",
    "# Áp dụng gradient descent để tối ưu hóa hàm lỗi (MSE)\n",
    "learned_weights = adam(X_train, main_y_train)\n",
    "\n",
    "print(\"Vector trọng số tối ưu:\", learned_weights)\n"
   ]
  },
  {
   "cell_type": "code",
   "execution_count": 47,
   "metadata": {},
   "outputs": [
    {
     "name": "stdout",
     "output_type": "stream",
     "text": [
      "0.7002151565861822\n"
     ]
    }
   ],
   "source": [
    "pred = labeling(X_test.dot(learned_weights))\n",
    "print(accuracy_score(y_test, pred))"
   ]
  },
  {
   "cell_type": "code",
   "execution_count": 48,
   "metadata": {},
   "outputs": [
    {
     "name": "stdout",
     "output_type": "stream",
     "text": [
      "Phần tử 0 xuất hiện 1 lần\n",
      "Phần tử 1 xuất hiện 1 lần\n",
      "Phần tử 2 xuất hiện 3698 lần\n",
      "Phần tử 3 xuất hiện 457 lần\n",
      "Phần tử 4 xuất hiện 26 lần\n"
     ]
    }
   ],
   "source": [
    "import numpy as np\n",
    "\n",
    "unique_elements, counts = np.unique(pred, return_counts=True)\n",
    "    \n",
    "for element, count in zip(unique_elements, counts):\n",
    "    print(\"Phần tử\", element, \"xuất hiện\", count, \"lần\")\n"
   ]
  },
  {
   "cell_type": "code",
   "execution_count": 49,
   "metadata": {},
   "outputs": [],
   "source": [
    "# Gradient descent với AdaMax để tối ưu hóa hàm lỗi (MSE)\n",
    "def adamax_gradient_descent(X, y, learning_rate=0.01, beta1=0.9, beta2=0.999, epsilon=1e-8, num_iterations=1000):\n",
    "    # Khởi tạo vector trọng số ngẫu nhiên\n",
    "    w = np.random.randn(X.shape[1])\n",
    "    \n",
    "    # Khởi tạo các biến m và v cho Adam\n",
    "    m = np.zeros_like(w)\n",
    "    v = np.zeros_like(w)\n",
    "    \n",
    "    for t in range(1, num_iterations + 1):\n",
    "        # Tính gradient của hàm lỗi\n",
    "        grad = gradient_mean_squared_error(X, y, w)\n",
    "        \n",
    "        # Cập nhật biến m và v\n",
    "        m = beta1 * m + (1 - beta1) * grad\n",
    "        v = np.maximum(beta2 * v, np.abs(grad))\n",
    "        \n",
    "        # Cập nhật vector trọng số\n",
    "        w -= learning_rate / (1 - beta1**t) * m / (v + epsilon)\n",
    "        if _ % 100 == 0:\n",
    "            print(w)\n",
    "    \n",
    "    return w"
   ]
  },
  {
   "cell_type": "code",
   "execution_count": 50,
   "metadata": {},
   "outputs": [
    {
     "name": "stdout",
     "output_type": "stream",
     "text": [
      "Vector trọng số tối ưu: [-0.59874422 -0.72478254  0.62521165 -0.52890806  2.15827971  0.38619855\n",
      " -1.06429626 -0.05813661 -0.13724531 -0.10041041  0.45887657  0.39231388\n",
      " -0.12534711  1.12314901]\n",
      "0.545063351661487\n"
     ]
    }
   ],
   "source": [
    "learned_weights = adamax_gradient_descent(X_train, y_train)\n",
    "print(\"Vector trọng số tối ưu:\", learned_weights)\n",
    "pred = labeling(X_test.dot(learned_weights))\n",
    "print(accuracy_score(y_test, pred))"
   ]
  },
  {
   "cell_type": "code",
   "execution_count": 51,
   "metadata": {},
   "outputs": [
    {
     "name": "stdout",
     "output_type": "stream",
     "text": [
      "Phần tử 0 xuất hiện 90 lần\n",
      "Phần tử 1 xuất hiện 509 lần\n",
      "Phần tử 2 xuất hiện 2749 lần\n",
      "Phần tử 3 xuất hiện 561 lần\n",
      "Phần tử 4 xuất hiện 274 lần\n"
     ]
    }
   ],
   "source": [
    "import numpy as np\n",
    "\n",
    "unique_elements, counts = np.unique(pred, return_counts=True)\n",
    "\n",
    "for element, count in zip(unique_elements, counts):\n",
    "    print(\"Phần tử\", element, \"xuất hiện\", count, \"lần\")\n"
   ]
  }
 ],
 "metadata": {
  "kernelspec": {
   "display_name": "Python 3",
   "language": "python",
   "name": "python3"
  },
  "language_info": {
   "codemirror_mode": {
    "name": "ipython",
    "version": 3
   },
   "file_extension": ".py",
   "mimetype": "text/x-python",
   "name": "python",
   "nbconvert_exporter": "python",
   "pygments_lexer": "ipython3",
   "version": "3.11.2"
  }
 },
 "nbformat": 4,
 "nbformat_minor": 2
}
