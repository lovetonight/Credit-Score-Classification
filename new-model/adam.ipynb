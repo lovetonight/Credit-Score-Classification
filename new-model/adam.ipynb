{
 "cells": [
  {
   "cell_type": "code",
   "execution_count": 169,
   "metadata": {},
   "outputs": [],
   "source": [
    "import pandas as pd\n",
    "from sklearn.metrics import accuracy_score\n",
    "import numpy as np\n",
    "from datetime import datetime, timedelta\n",
    "import matplotlib.pyplot as plt\n",
    "import numpy as np\n",
    "import tensorflow as tf\n",
    "from detect_outlier import *\n",
    "from sklearn.model_selection import train_test_split\n"
   ]
  },
  {
   "cell_type": "code",
   "execution_count": 170,
   "metadata": {},
   "outputs": [],
   "source": [
    "df = read_data()"
   ]
  },
  {
   "cell_type": "code",
   "execution_count": 171,
   "metadata": {},
   "outputs": [],
   "source": [
    "df.loc[df['sub_label'].isna(), 'sub_label'] = df['main_label']\n",
    "df = df.dropna()\n"
   ]
  },
  {
   "cell_type": "code",
   "execution_count": 172,
   "metadata": {},
   "outputs": [],
   "source": [
    "df_normalized = df.drop([\"address\", \"createdAt\"], axis=1)\n",
    "main_label_column = df['main_label']\n",
    "sub_label_column = df['sub_label']\n",
    "\n",
    "for column in df_normalized.columns:\n",
    "    if column not in [\"numberOfLiquidation\", \"borrow_per_deposit\"]:\n",
    "        min_val = df_normalized[column].min()\n",
    "        max_val = df_normalized[column].max()\n",
    "        df_normalized[column] = ((df_normalized[column] - min_val) /\n",
    "                                         (max_val - min_val)) * 550 + 300\n",
    "\n",
    "min_max_columns = [\"numberOfLiquidation\", \"borrow_per_deposit\"]\n",
    "\n",
    "for column in min_max_columns:\n",
    "    min_val = df_normalized[column].min()\n",
    "    max_val = df_normalized[column].max()\n",
    "    df_normalized[column] = ((max_val - df_normalized[column]) /\n",
    "                                     (max_val - min_val)) * 550 + 300\n",
    "\n",
    "df_normalized['main_label'] = main_label_column\n",
    "df_normalized['sub_label'] = sub_label_column"
   ]
  },
  {
   "cell_type": "code",
   "execution_count": 173,
   "metadata": {},
   "outputs": [],
   "source": [
    "def score(label):\n",
    "    if label == 0:\n",
    "        return np.random.randint(300, 580)\n",
    "    if label == 1:\n",
    "        return np.random.randint(580, 670)\n",
    "    if label == 2:\n",
    "        return np.random.randint(670, 740)\n",
    "    if label == 3:\n",
    "        return np.random.randint(740, 800)\n",
    "    if label == 4:\n",
    "        return np.random.randint(800, 850)\n",
    "\n",
    "\n",
    "def labeling(scores):\n",
    "    label = []\n",
    "    for score in scores:\n",
    "        if score < 580:\n",
    "            label.append(0)\n",
    "        elif score >= 580 and score < 670:\n",
    "            label.append(1)\n",
    "        elif score >= 670 and score < 740:\n",
    "            label.append(2)\n",
    "        elif score >= 740 and score < 800:\n",
    "            label.append(3)\n",
    "        elif score >= 800:\n",
    "            label.append(4)\n",
    "    return np.array(label)"
   ]
  },
  {
   "cell_type": "code",
   "execution_count": 174,
   "metadata": {},
   "outputs": [],
   "source": [
    "X = np.array(\n",
    "    df_normalized[\n",
    "        [\n",
    "            \"balanceInUSD\",\n",
    "            # \"borrowInUSD\",\n",
    "            # \"depositInUSD\",\n",
    "            \"averageTotalAsset\",\n",
    "            \"frequencyMountOfTransaction\",\n",
    "            \"borrow_per_balance\",\n",
    "            \"deposit_per_balance\",\n",
    "            \"borrow_per_deposit\",\n",
    "            \"totalValueOfLiquidation\",\n",
    "            \"numberOfLiquidation\",\n",
    "            \"frequencyOfTransaction\",\n",
    "            \"frequencyOfDappTransactions\",\n",
    "            \"numberOfInteractedDapps\",\n",
    "            \"typesOfInteractedDapps\",\n",
    "            \"numberOfReputableDapps\",\n",
    "            \"age\",\n",
    "        ]\n",
    "    ].values\n",
    ")\n",
    "main_y = df_normalized[\"main_label\"].values\n",
    "sub_y = df_normalized[\"sub_label\"].values\n",
    "\n",
    "X_train, X_test, main_y_train, main_y_test, sub_y_train, sub_y_test = train_test_split(\n",
    "    X, main_y, sub_y, test_size=0.2, random_state=42\n",
    ")\n",
    "# Chuẩn bị dữ liệu"
   ]
  },
  {
   "cell_type": "code",
   "execution_count": 175,
   "metadata": {},
   "outputs": [
    {
     "data": {
      "text/plain": [
       "97604"
      ]
     },
     "execution_count": 175,
     "metadata": {},
     "output_type": "execute_result"
    }
   ],
   "source": [
    "X_train.shape[0]"
   ]
  },
  {
   "cell_type": "code",
   "execution_count": 176,
   "metadata": {},
   "outputs": [
    {
     "name": "stdout",
     "output_type": "stream",
     "text": [
      "Vector trọng số tối ưu: [ 0.35275793  0.26863327 -0.10669593 -0.2026697   0.47079281  0.23282609\n",
      " -0.20826085  0.05674303 -0.24578297  0.20636567  0.33419137 -0.28034013\n",
      " -0.00806293  0.36499005]\n"
     ]
    }
   ],
   "source": [
    "import numpy as np\n",
    "\n",
    "# def new_error_func(y, sub_y, y_pred):\n",
    "#     errors = [0] * len(y_pred)\n",
    "#     # Lặp qua từng phần tử trong mảng\n",
    "#     for i in range(len(y_pred)):\n",
    "#         if y[i] > sub_y[i]:\n",
    "#             errors[i] = y_pred[i] - y[i] \n",
    "#         else:\n",
    "#             errors[i] = y_pred[i] - sub_y[i] \n",
    "#     return errors\n",
    "\n",
    "def new_error_func(y, sub_y, y_pred):\n",
    "    errors = [0] * len(y_pred)\n",
    "    # Lặp qua từng phần tử trong mảng\n",
    "    for i in range(len(y_pred)):\n",
    "        if y[i] == sub_y[i]:\n",
    "            errors[i] = y_pred[i] - y[i] \n",
    "        else :\n",
    "            min_value = min(y[i], sub_y[i])\n",
    "            max_value = max(y[i], sub_y[i])\n",
    "            if y_pred[i] <= min_value:\n",
    "                errors[i] = min_value - y_pred[i]\n",
    "            if y_pred[i] >= max_value:\n",
    "                errors[i] = y_pred[i] - max_value\n",
    "    return errors\n",
    "\n",
    "# Hàm tính gradient của hàm lỗi (MSE)\n",
    "def gradient_mean_squared_error(X, y, sub_y, w):\n",
    "    n = len(y)\n",
    "    y_pred = labeling(np.dot(X, w))\n",
    "    # error = y_pred - y\n",
    "    error = new_error_func(y, sub_y, y_pred)\n",
    "    gradient = 2 * np.dot(X.T, error) / n\n",
    "    return gradient\n",
    "\n",
    "# Gradient descent để tối ưu hóa hàm lỗi (MSE)\n",
    "def adam(X, y, sub_y, learning_rate=0.001, beta1=0.9, beta2=0.999, epsilon=1e-8, num_iterations=1000):\n",
    "    # Khởi tạo vector trọng số ngẫu nhiên\n",
    "    w = np.random.uniform(0, 1, X.shape[1])\n",
    "    m = np.zeros_like(w)\n",
    "    v = np.zeros_like(w)\n",
    "    t = 0\n",
    "    \n",
    "    for _ in range(num_iterations):\n",
    "        # Chọn ngẫu nhiên một mẫu từ dữ liệu\n",
    "        random_index = np.random.randint(0, len(X))\n",
    "        X_sample = X[random_index:random_index+1]\n",
    "        y_sample = y[random_index:random_index+1]\n",
    "        sub_y_sample = sub_y[random_index:random_index+1]\n",
    "        \n",
    "        \n",
    "        # Tính gradient của hàm lỗi cho mẫu đã chọn\n",
    "        grad = gradient_mean_squared_error(X_sample, y_sample, sub_y_sample, w)\n",
    "        \n",
    "        # Tính trung bình độ lớn của gradient và gradient bình phương\n",
    "        m = beta1 * m + (1 - beta1) * grad\n",
    "        v = beta2 * v + (1 - beta2) * (grad ** 2)\n",
    "        \n",
    "        # Bias correction\n",
    "        m_hat = m / (1 - beta1**(t+1))\n",
    "        v_hat = v / (1 - beta2**(t+1))\n",
    "        \n",
    "        # Cập nhật vector trọng số\n",
    "        w -= learning_rate * m_hat / (np.sqrt(v_hat) + epsilon)\n",
    "        \n",
    "        t += 1\n",
    "        \n",
    "    \n",
    "    return w\n",
    "\n",
    "# Áp dụng gradient descent để tối ưu hóa hàm lỗi (MSE)\n",
    "learned_weights = adam(X_train, main_y_train, sub_y_train)\n",
    "\n",
    "print(\"Vector trọng số tối ưu:\", learned_weights)\n"
   ]
  },
  {
   "cell_type": "code",
   "execution_count": 177,
   "metadata": {},
   "outputs": [],
   "source": [
    "def new_accuracy(y_train, sub_y_train, y_pred):\n",
    "    y_train = np.array(y_train)\n",
    "    sub_y_train = np.array(sub_y_train)\n",
    "    y_pred = np.array(y_pred)\n",
    "    condition = np.logical_or(y_pred == sub_y_train, y_pred == y_train)\n",
    "    count = np.sum(condition)\n",
    "    accuracy = count / len(y_train)\n",
    "    return accuracy"
   ]
  },
  {
   "cell_type": "code",
   "execution_count": 178,
   "metadata": {},
   "outputs": [],
   "source": [
    "max1 = 0\n",
    "res = None\n",
    "for i in range(1000):\n",
    "    learned_weights = adam(X_train, main_y_train, sub_y_train)\n",
    "    pred = labeling(X_test.dot(learned_weights))\n",
    "    acc = new_accuracy(main_y_test, sub_y_test, pred)\n",
    "    if acc > max1:\n",
    "        max1 = acc\n",
    "        res = learned_weights"
   ]
  },
  {
   "cell_type": "code",
   "execution_count": 181,
   "metadata": {},
   "outputs": [
    {
     "name": "stdout",
     "output_type": "stream",
     "text": [
      "0.8373084173428408 [ 0.27917011  0.25496641 -0.40879111 -0.10001058  0.32614511 -0.18935922\n",
      "  0.0361325   0.38295403 -0.09942797  0.10893354  0.33322976  0.34286977\n",
      "  0.29081977  0.02028977]\n"
     ]
    }
   ],
   "source": [
    "print(max1, res)"
   ]
  },
  {
   "cell_type": "code",
   "execution_count": 179,
   "metadata": {},
   "outputs": [
    {
     "name": "stdout",
     "output_type": "stream",
     "text": [
      "0.29780345873289077\n"
     ]
    }
   ],
   "source": [
    "pred = labeling(X_test.dot(learned_weights))\n",
    "print(new_accuracy(main_y_test, sub_y_test, pred))"
   ]
  },
  {
   "cell_type": "code",
   "execution_count": 180,
   "metadata": {},
   "outputs": [
    {
     "name": "stdout",
     "output_type": "stream",
     "text": [
      "Phần tử 0 xuất hiện 16182 lần\n",
      "Phần tử 1 xuất hiện 8219 lần\n",
      "Phần tử 3 xuất hiện 1 lần\n"
     ]
    }
   ],
   "source": [
    "import numpy as np\n",
    "\n",
    "unique_elements, counts = np.unique(pred, return_counts=True)\n",
    "    \n",
    "for element, count in zip(unique_elements, counts):\n",
    "    print(\"Phần tử\", element, \"xuất hiện\", count, \"lần\")\n"
   ]
  }
 ],
 "metadata": {
  "kernelspec": {
   "display_name": "Python 3",
   "language": "python",
   "name": "python3"
  },
  "language_info": {
   "codemirror_mode": {
    "name": "ipython",
    "version": 3
   },
   "file_extension": ".py",
   "mimetype": "text/x-python",
   "name": "python",
   "nbconvert_exporter": "python",
   "pygments_lexer": "ipython3",
   "version": "3.11.2"
  }
 },
 "nbformat": 4,
 "nbformat_minor": 2
}
