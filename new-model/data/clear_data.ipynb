{
 "cells": [
  {
   "cell_type": "code",
   "execution_count": 75,
   "metadata": {},
   "outputs": [],
   "source": [
    "import pandas as pd"
   ]
  },
  {
   "cell_type": "code",
   "execution_count": 76,
   "metadata": {},
   "outputs": [],
   "source": [
    "df = pd.read_csv(\"all_data.csv\")\n",
    "df['main_label'] = None\n",
    "df['sub_label'] = None"
   ]
  },
  {
   "cell_type": "code",
   "execution_count": 77,
   "metadata": {},
   "outputs": [
    {
     "data": {
      "text/plain": [
       "251405"
      ]
     },
     "execution_count": 77,
     "metadata": {},
     "output_type": "execute_result"
    }
   ],
   "source": [
    "len(df)"
   ]
  },
  {
   "cell_type": "code",
   "execution_count": 78,
   "metadata": {},
   "outputs": [
    {
     "data": {
      "text/plain": [
       "1571"
      ]
     },
     "execution_count": 78,
     "metadata": {},
     "output_type": "execute_result"
    }
   ],
   "source": [
    "len(\n",
    "    df[(df[\"balanceInUSD\"] == 0) & (df[\"depositInUSD\"] == 0) & (df[\"borrowInUSD\"] == 0)]\n",
    ")"
   ]
  },
  {
   "cell_type": "code",
   "execution_count": 93,
   "metadata": {},
   "outputs": [
    {
     "data": {
      "text/plain": [
       "58.0"
      ]
     },
     "execution_count": 93,
     "metadata": {},
     "output_type": "execute_result"
    }
   ],
   "source": [
    "max(df['numberOfLiquidation'])"
   ]
  },
  {
   "cell_type": "code",
   "execution_count": 102,
   "metadata": {},
   "outputs": [],
   "source": [
    "Q1 = df[df['numberOfInteractedDapps']>0]['numberOfInteractedDapps'].quantile(0.25)\n",
    "Q3 = df[df['numberOfInteractedDapps']>0]['numberOfInteractedDapps'].quantile(0.95)\n",
    "IQR = Q3 - Q1\n",
    "lower_bound = Q1 - 1.5 * IQR\n",
    "upper_bound = Q3 + 1.5 * IQR"
   ]
  },
  {
   "cell_type": "code",
   "execution_count": 103,
   "metadata": {},
   "outputs": [
    {
     "name": "stdout",
     "output_type": "stream",
     "text": [
      "Phần tư thứ nhất (Q1): 2.0\n",
      "Phần tư thứ ba (Q3): 18.0\n",
      "IQR: 16.0\n",
      "Ngưỡng ngoại lai dưới: -22.0\n",
      "Ngưỡng ngoại lai trên: 42.0\n",
      "Các giá trị ngoại lai:\n",
      "Empty DataFrame\n",
      "Columns: [_id, address, depositInUSD, borrowInUSD, balanceInUSD, numberCallsTopContracts, totalValueOfLiquidation, numberOfLiquidation, frequencyOfDappTransactions, numberOfInteractedDapps, typesOfInteractedDapps, numberOfReputableDapps, averageTotalAsset, frequencyOfTransaction, frequencyMountOfTransaction, createdAt, label, main_label, sub_label]\n",
      "Index: []\n"
     ]
    }
   ],
   "source": [
    "print(\"Phần tư thứ nhất (Q1):\", Q1)\n",
    "print(\"Phần tư thứ ba (Q3):\", Q3)\n",
    "print(\"IQR:\", IQR)\n",
    "print(\"Ngưỡng ngoại lai dưới:\", lower_bound)\n",
    "print(\"Ngưỡng ngoại lai trên:\", upper_bound)\n",
    "\n",
    "# Tìm các giá trị ngoại lai\n",
    "outliers = df[(df['balanceInUSD'] < lower_bound)]\n",
    "print(\"Các giá trị ngoại lai:\")\n",
    "print(outliers)"
   ]
  },
  {
   "cell_type": "code",
   "execution_count": 81,
   "metadata": {},
   "outputs": [
    {
     "name": "stdout",
     "output_type": "stream",
     "text": [
      "label\n",
      "1    234802\n",
      "2     12972\n",
      "4      1876\n",
      "0       882\n",
      "3       872\n",
      "Name: count, dtype: int64\n"
     ]
    }
   ],
   "source": [
    "labels = df[df['balanceInUSD']>-1].get('label')\n",
    "label_counts = labels.value_counts()\n",
    "print(label_counts)"
   ]
  },
  {
   "cell_type": "code",
   "execution_count": null,
   "metadata": {},
   "outputs": [],
   "source": []
  },
  {
   "cell_type": "code",
   "execution_count": 82,
   "metadata": {},
   "outputs": [],
   "source": [
    "df = df[(df['balanceInUSD'] > 1.0) & (df['createdAt'] != None)]"
   ]
  },
  {
   "cell_type": "code",
   "execution_count": 83,
   "metadata": {},
   "outputs": [],
   "source": [
    "wallets_to_remove = []\n",
    "count = 0"
   ]
  },
  {
   "cell_type": "code",
   "execution_count": 84,
   "metadata": {},
   "outputs": [],
   "source": [
    "for index, row in df.iterrows():\n",
    "    balanceInUSD = row[\"balanceInUSD\"]\n",
    "    numberOfLiquidation = row[\"numberOfLiquidation\"]\n",
    "    borrowInUSD = row[\"borrowInUSD\"]\n",
    "    # Label 0\n",
    "    if balanceInUSD <= 1000 and numberOfLiquidation > 0:\n",
    "        df.loc[index, \"main_label\"] = 0\n",
    "    if 1000 < balanceInUSD <= 100000 and borrowInUSD / balanceInUSD >= 0.6:\n",
    "        df.loc[index, \"main_label\"] = 0\n",
    "        df.loc[index, \"sub_label\"] = 1\n",
    "    if (\n",
    "        balanceInUSD > 0\n",
    "        and borrowInUSD / balanceInUSD >= 0.4\n",
    "        and numberOfLiquidation > 0\n",
    "    ):\n",
    "        df.loc[index, \"main_label\"] = 0\n",
    "        df.loc[index, \"sub_label\"] = 1\n",
    "\n",
    "    # Label 1\n",
    "    if balanceInUSD <= 1000 and numberOfLiquidation == 0:\n",
    "        df.loc[index, \"main_label\"] = 1\n",
    "    if (\n",
    "        0 < balanceInUSD <= 100000\n",
    "        and 0.4 <= borrowInUSD / balanceInUSD < 0.6\n",
    "        and numberOfLiquidation == 0\n",
    "    ):\n",
    "        df.loc[index, \"main_label\"] = 1\n",
    "        df.loc[index, \"sub_label\"] = 2\n",
    "    if (\n",
    "        balanceInUSD > 1000\n",
    "        and numberOfLiquidation > 0\n",
    "        and 0 < borrowInUSD / balanceInUSD < 0.4\n",
    "    ):\n",
    "        df.loc[index, \"main_label\"] = 1\n",
    "        df.loc[index, \"sub_label\"] = 0\n",
    "\n",
    "    # Label 2\n",
    "    if 1000 < balanceInUSD < 10000 and numberOfLiquidation == 0:\n",
    "        df.loc[index, \"main_label\"] = 2\n",
    "        df.loc[index, \"sub_label\"] = 3\n",
    "    if (\n",
    "        balanceInUSD > 1000\n",
    "        and 0.3 <= borrowInUSD / balanceInUSD < 0.4\n",
    "        and numberOfLiquidation == 0\n",
    "    ):\n",
    "        df.loc[index, \"main_label\"] = 2\n",
    "\n",
    "    # Label 3\n",
    "\n",
    "    if (\n",
    "        balanceInUSD > 1000000\n",
    "        and numberOfLiquidation == 0\n",
    "        and 0.2 <= borrowInUSD / balanceInUSD < 0.3\n",
    "    ):\n",
    "        df.loc[index, \"main_label\"] = 3\n",
    "    if (\n",
    "        10000 <= balanceInUSD < 100000\n",
    "        and 0 < borrowInUSD / balanceInUSD < 0.2\n",
    "        and numberOfLiquidation == 0\n",
    "    ):\n",
    "        df.loc[index, \"main_label\"] = 3\n",
    "        df.loc[index, \"sub_label\"] = 4\n",
    "\n",
    "    # Label 4\n",
    "    if (\n",
    "        balanceInUSD > 1000000\n",
    "        and numberOfLiquidation == 0\n",
    "        and borrowInUSD / balanceInUSD < 0.2\n",
    "    ):\n",
    "        df.loc[index, \"main_label\"] = 4\n",
    "    if balanceInUSD >= 100000 and borrowInUSD == 0 and numberOfLiquidation == 0:\n",
    "        df.loc[index, \"main_label\"] = 4\n",
    "        df.loc[index, \"sub_label\"] = 3"
   ]
  },
  {
   "cell_type": "code",
   "execution_count": 89,
   "metadata": {},
   "outputs": [
    {
     "data": {
      "text/html": [
       "<div>\n",
       "<style scoped>\n",
       "    .dataframe tbody tr th:only-of-type {\n",
       "        vertical-align: middle;\n",
       "    }\n",
       "\n",
       "    .dataframe tbody tr th {\n",
       "        vertical-align: top;\n",
       "    }\n",
       "\n",
       "    .dataframe thead th {\n",
       "        text-align: right;\n",
       "    }\n",
       "</style>\n",
       "<table border=\"1\" class=\"dataframe\">\n",
       "  <thead>\n",
       "    <tr style=\"text-align: right;\">\n",
       "      <th></th>\n",
       "      <th>_id</th>\n",
       "      <th>address</th>\n",
       "      <th>depositInUSD</th>\n",
       "      <th>borrowInUSD</th>\n",
       "      <th>balanceInUSD</th>\n",
       "      <th>numberCallsTopContracts</th>\n",
       "      <th>totalValueOfLiquidation</th>\n",
       "      <th>numberOfLiquidation</th>\n",
       "      <th>frequencyOfDappTransactions</th>\n",
       "      <th>numberOfInteractedDapps</th>\n",
       "      <th>typesOfInteractedDapps</th>\n",
       "      <th>numberOfReputableDapps</th>\n",
       "      <th>averageTotalAsset</th>\n",
       "      <th>frequencyOfTransaction</th>\n",
       "      <th>frequencyMountOfTransaction</th>\n",
       "      <th>createdAt</th>\n",
       "      <th>label</th>\n",
       "      <th>main_label</th>\n",
       "      <th>sub_label</th>\n",
       "    </tr>\n",
       "  </thead>\n",
       "  <tbody>\n",
       "    <tr>\n",
       "      <th>2</th>\n",
       "      <td>0x1_0xaa0ff384700c75dbf5e1804da1adac6ab67d0a69</td>\n",
       "      <td>0xaa0ff384700c75dbf5e1804da1adac6ab67d0a69</td>\n",
       "      <td>108.156901</td>\n",
       "      <td>0.000000</td>\n",
       "      <td>3.211923</td>\n",
       "      <td>0.0</td>\n",
       "      <td>0.0</td>\n",
       "      <td>0.0</td>\n",
       "      <td>0.0</td>\n",
       "      <td>0.0</td>\n",
       "      <td>0.0</td>\n",
       "      <td>0.0</td>\n",
       "      <td>7.019729</td>\n",
       "      <td>0.000000</td>\n",
       "      <td>0.000000</td>\n",
       "      <td>1.687370e+09</td>\n",
       "      <td>1</td>\n",
       "      <td>1</td>\n",
       "      <td>None</td>\n",
       "    </tr>\n",
       "    <tr>\n",
       "      <th>3</th>\n",
       "      <td>0x1_0xaa1062ff44cb41b9aac4879dda6e7c21c1e8aa3b</td>\n",
       "      <td>0xaa1062ff44cb41b9aac4879dda6e7c21c1e8aa3b</td>\n",
       "      <td>0.771910</td>\n",
       "      <td>0.000000</td>\n",
       "      <td>17.120238</td>\n",
       "      <td>0.0</td>\n",
       "      <td>0.0</td>\n",
       "      <td>0.0</td>\n",
       "      <td>0.0</td>\n",
       "      <td>0.0</td>\n",
       "      <td>0.0</td>\n",
       "      <td>0.0</td>\n",
       "      <td>18.187915</td>\n",
       "      <td>0.000000</td>\n",
       "      <td>0.000000</td>\n",
       "      <td>1.629281e+09</td>\n",
       "      <td>1</td>\n",
       "      <td>1</td>\n",
       "      <td>None</td>\n",
       "    </tr>\n",
       "    <tr>\n",
       "      <th>4</th>\n",
       "      <td>0x1_0xaa10a6f064cd2daab21633911ef51a72868b0b61</td>\n",
       "      <td>0xaa10a6f064cd2daab21633911ef51a72868b0b61</td>\n",
       "      <td>36.973035</td>\n",
       "      <td>144.087281</td>\n",
       "      <td>17.875705</td>\n",
       "      <td>0.0</td>\n",
       "      <td>0.0</td>\n",
       "      <td>0.0</td>\n",
       "      <td>0.0</td>\n",
       "      <td>0.0</td>\n",
       "      <td>0.0</td>\n",
       "      <td>0.0</td>\n",
       "      <td>39.156659</td>\n",
       "      <td>0.000000</td>\n",
       "      <td>0.000000</td>\n",
       "      <td>1.630235e+09</td>\n",
       "      <td>1</td>\n",
       "      <td>1</td>\n",
       "      <td>None</td>\n",
       "    </tr>\n",
       "    <tr>\n",
       "      <th>13</th>\n",
       "      <td>0x1_0xaa13905714dc09e1c51926869ddf2f3f2f1f3133</td>\n",
       "      <td>0xaa13905714dc09e1c51926869ddf2f3f2f1f3133</td>\n",
       "      <td>0.000104</td>\n",
       "      <td>0.000000</td>\n",
       "      <td>6833.284478</td>\n",
       "      <td>0.0</td>\n",
       "      <td>0.0</td>\n",
       "      <td>0.0</td>\n",
       "      <td>0.0</td>\n",
       "      <td>0.0</td>\n",
       "      <td>0.0</td>\n",
       "      <td>0.0</td>\n",
       "      <td>14609.181290</td>\n",
       "      <td>0.000000</td>\n",
       "      <td>66.686542</td>\n",
       "      <td>1.631148e+09</td>\n",
       "      <td>1</td>\n",
       "      <td>2</td>\n",
       "      <td>3</td>\n",
       "    </tr>\n",
       "    <tr>\n",
       "      <th>15</th>\n",
       "      <td>0x1_0xaa13d3575491df2721e43bb66cd4a27cd0af725e</td>\n",
       "      <td>0xaa13d3575491df2721e43bb66cd4a27cd0af725e</td>\n",
       "      <td>23.814108</td>\n",
       "      <td>0.000000</td>\n",
       "      <td>3.848197</td>\n",
       "      <td>0.0</td>\n",
       "      <td>0.0</td>\n",
       "      <td>0.0</td>\n",
       "      <td>0.0</td>\n",
       "      <td>0.0</td>\n",
       "      <td>0.0</td>\n",
       "      <td>0.0</td>\n",
       "      <td>4.122038</td>\n",
       "      <td>0.000000</td>\n",
       "      <td>0.000000</td>\n",
       "      <td>NaN</td>\n",
       "      <td>1</td>\n",
       "      <td>1</td>\n",
       "      <td>None</td>\n",
       "    </tr>\n",
       "    <tr>\n",
       "      <th>16</th>\n",
       "      <td>0x1_0xaa13d495f1bf23cf26b7bb37ef35b2a341bce2f4</td>\n",
       "      <td>0xaa13d495f1bf23cf26b7bb37ef35b2a341bce2f4</td>\n",
       "      <td>168.414839</td>\n",
       "      <td>0.000000</td>\n",
       "      <td>2599.080322</td>\n",
       "      <td>0.0</td>\n",
       "      <td>0.0</td>\n",
       "      <td>0.0</td>\n",
       "      <td>5.0</td>\n",
       "      <td>4.0</td>\n",
       "      <td>3.0</td>\n",
       "      <td>2.0</td>\n",
       "      <td>8822.283108</td>\n",
       "      <td>0.133333</td>\n",
       "      <td>55.010699</td>\n",
       "      <td>NaN</td>\n",
       "      <td>2</td>\n",
       "      <td>2</td>\n",
       "      <td>3</td>\n",
       "    </tr>\n",
       "  </tbody>\n",
       "</table>\n",
       "</div>"
      ],
      "text/plain": [
       "                                               _id  \\\n",
       "2   0x1_0xaa0ff384700c75dbf5e1804da1adac6ab67d0a69   \n",
       "3   0x1_0xaa1062ff44cb41b9aac4879dda6e7c21c1e8aa3b   \n",
       "4   0x1_0xaa10a6f064cd2daab21633911ef51a72868b0b61   \n",
       "13  0x1_0xaa13905714dc09e1c51926869ddf2f3f2f1f3133   \n",
       "15  0x1_0xaa13d3575491df2721e43bb66cd4a27cd0af725e   \n",
       "16  0x1_0xaa13d495f1bf23cf26b7bb37ef35b2a341bce2f4   \n",
       "\n",
       "                                       address  depositInUSD  borrowInUSD  \\\n",
       "2   0xaa0ff384700c75dbf5e1804da1adac6ab67d0a69    108.156901     0.000000   \n",
       "3   0xaa1062ff44cb41b9aac4879dda6e7c21c1e8aa3b      0.771910     0.000000   \n",
       "4   0xaa10a6f064cd2daab21633911ef51a72868b0b61     36.973035   144.087281   \n",
       "13  0xaa13905714dc09e1c51926869ddf2f3f2f1f3133      0.000104     0.000000   \n",
       "15  0xaa13d3575491df2721e43bb66cd4a27cd0af725e     23.814108     0.000000   \n",
       "16  0xaa13d495f1bf23cf26b7bb37ef35b2a341bce2f4    168.414839     0.000000   \n",
       "\n",
       "    balanceInUSD  numberCallsTopContracts  totalValueOfLiquidation  \\\n",
       "2       3.211923                      0.0                      0.0   \n",
       "3      17.120238                      0.0                      0.0   \n",
       "4      17.875705                      0.0                      0.0   \n",
       "13   6833.284478                      0.0                      0.0   \n",
       "15      3.848197                      0.0                      0.0   \n",
       "16   2599.080322                      0.0                      0.0   \n",
       "\n",
       "    numberOfLiquidation  frequencyOfDappTransactions  numberOfInteractedDapps  \\\n",
       "2                   0.0                          0.0                      0.0   \n",
       "3                   0.0                          0.0                      0.0   \n",
       "4                   0.0                          0.0                      0.0   \n",
       "13                  0.0                          0.0                      0.0   \n",
       "15                  0.0                          0.0                      0.0   \n",
       "16                  0.0                          5.0                      4.0   \n",
       "\n",
       "    typesOfInteractedDapps  numberOfReputableDapps  averageTotalAsset  \\\n",
       "2                      0.0                     0.0           7.019729   \n",
       "3                      0.0                     0.0          18.187915   \n",
       "4                      0.0                     0.0          39.156659   \n",
       "13                     0.0                     0.0       14609.181290   \n",
       "15                     0.0                     0.0           4.122038   \n",
       "16                     3.0                     2.0        8822.283108   \n",
       "\n",
       "    frequencyOfTransaction  frequencyMountOfTransaction     createdAt  label  \\\n",
       "2                 0.000000                     0.000000  1.687370e+09      1   \n",
       "3                 0.000000                     0.000000  1.629281e+09      1   \n",
       "4                 0.000000                     0.000000  1.630235e+09      1   \n",
       "13                0.000000                    66.686542  1.631148e+09      1   \n",
       "15                0.000000                     0.000000           NaN      1   \n",
       "16                0.133333                    55.010699           NaN      2   \n",
       "\n",
       "   main_label sub_label  \n",
       "2           1      None  \n",
       "3           1      None  \n",
       "4           1      None  \n",
       "13          2         3  \n",
       "15          1      None  \n",
       "16          2         3  "
      ]
     },
     "execution_count": 89,
     "metadata": {},
     "output_type": "execute_result"
    }
   ],
   "source": [
    "df.head(6)"
   ]
  },
  {
   "cell_type": "code",
   "execution_count": 86,
   "metadata": {},
   "outputs": [],
   "source": [
    "# for index, row in df.iterrows():\n",
    "#     balanceInUSD = row[\"balanceInUSD\"]\n",
    "#     numberOfLiquidation = row[\"numberOfLiquidation\"]\n",
    "#     borrowInUSD = row[\"borrowInUSD\"]\n",
    "#     label = row[\"label\"]\n",
    "#     if label == 0:\n",
    "#         if (\n",
    "#             not (balanceInUSD <= 1000 and numberOfLiquidation > 0)\n",
    "#             and not (\n",
    "#                 1000 < balanceInUSD <= 100000 and borrowInUSD / balanceInUSD >= 0.6\n",
    "#             )\n",
    "#             and not (\n",
    "#                 balanceInUSD > 0\n",
    "#                 and borrowInUSD / balanceInUSD >= 0.4\n",
    "#                 and numberOfLiquidation > 0\n",
    "#             )\n",
    "#         ):\n",
    "#             wallets_to_remove.append(index)\n",
    "\n",
    "#     if label == 1:\n",
    "#         if (\n",
    "#             not (balanceInUSD <= 1000 and numberOfLiquidation == 0)\n",
    "#             and not (\n",
    "#                 balanceInUSD <= 100000\n",
    "#                 and 0.4 <= borrowInUSD / balanceInUSD < 0.6\n",
    "#                 and numberOfLiquidation == 0\n",
    "#             )\n",
    "#             and not (\n",
    "#                 balanceInUSD > 1000\n",
    "#                 and numberOfLiquidation > 0\n",
    "#                 and 0 < borrowInUSD / balanceInUSD < 0.4\n",
    "#             )\n",
    "#         ):\n",
    "#             wallets_to_remove.append(index)\n",
    "\n",
    "#     if label == 2:\n",
    "#         if not (1000 < balanceInUSD < 10000 and numberOfLiquidation == 0) and not (\n",
    "#             balanceInUSD > 1000\n",
    "#             and 0.3 <= borrowInUSD / balanceInUSD < 0.4\n",
    "#             and numberOfLiquidation == 0\n",
    "#         ):\n",
    "#             wallets_to_remove.append(index)\n",
    "\n",
    "#     if label == 3:\n",
    "#         if not (\n",
    "#             balanceInUSD > 1000000\n",
    "#             and numberOfLiquidation == 0\n",
    "#             and 0.2 <= borrowInUSD / balanceInUSD < 0.3\n",
    "#         ) and not (\n",
    "#             10000 <= balanceInUSD < 100000\n",
    "#             and 0 < borrowInUSD / balanceInUSD < 0.2\n",
    "#             and numberOfLiquidation == 0\n",
    "#         ):\n",
    "#             wallets_to_remove.append(index)\n",
    "#     if label == 4:\n",
    "#         if not (\n",
    "#             balanceInUSD > 1000000\n",
    "#             and numberOfLiquidation == 0\n",
    "#             and borrowInUSD / balanceInUSD < 0.2\n",
    "#         ) and not (\n",
    "#             balanceInUSD >= 100000 and borrowInUSD == 0 and numberOfLiquidation == 0\n",
    "#         ):\n",
    "#             wallets_to_remove.append(index)"
   ]
  },
  {
   "cell_type": "code",
   "execution_count": 87,
   "metadata": {},
   "outputs": [],
   "source": [
    "df = df.drop(wallets_to_remove)"
   ]
  },
  {
   "cell_type": "code",
   "execution_count": 88,
   "metadata": {},
   "outputs": [
    {
     "data": {
      "text/plain": [
       "166056"
      ]
     },
     "execution_count": 88,
     "metadata": {},
     "output_type": "execute_result"
    }
   ],
   "source": [
    "len(df)"
   ]
  }
 ],
 "metadata": {
  "kernelspec": {
   "display_name": "Python 3",
   "language": "python",
   "name": "python3"
  },
  "language_info": {
   "codemirror_mode": {
    "name": "ipython",
    "version": 3
   },
   "file_extension": ".py",
   "mimetype": "text/x-python",
   "name": "python",
   "nbconvert_exporter": "python",
   "pygments_lexer": "ipython3",
   "version": "3.11.2"
  }
 },
 "nbformat": 4,
 "nbformat_minor": 2
}
