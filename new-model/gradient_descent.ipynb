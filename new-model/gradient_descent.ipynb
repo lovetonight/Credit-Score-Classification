{
 "cells": [
  {
   "cell_type": "code",
   "execution_count": 154,
   "metadata": {},
   "outputs": [],
   "source": [
    "import pandas as pd\n",
    "from sklearn.metrics import accuracy_score\n",
    "import numpy as np\n",
    "from datetime import datetime, timedelta\n",
    "import matplotlib.pyplot as plt\n",
    "import numpy as np\n",
    "import tensorflow as tf\n",
    "from detect_outlier import *\n",
    "from sklearn.model_selection import train_test_split\n"
   ]
  },
  {
   "cell_type": "code",
   "execution_count": 155,
   "metadata": {},
   "outputs": [],
   "source": [
    "df = read_data()"
   ]
  },
  {
   "cell_type": "code",
   "execution_count": 156,
   "metadata": {},
   "outputs": [],
   "source": [
    "df.loc[df['sub_label'].isna(), 'sub_label'] = df['main_label']\n",
    "df = df.dropna()"
   ]
  },
  {
   "cell_type": "code",
   "execution_count": 157,
   "metadata": {},
   "outputs": [],
   "source": [
    "df_normalized = df.drop([\"address\", \"createdAt\"], axis=1)\n",
    "main_label_column = df['main_label']\n",
    "sub_label_column = df['sub_label']\n",
    "\n",
    "for column in df_normalized.columns:\n",
    "    if column not in [\"numberOfLiquidation\", \"borrow_per_deposit\"]:\n",
    "        min_val = df_normalized[column].min()\n",
    "        max_val = df_normalized[column].max()\n",
    "        df_normalized[column] = ((df_normalized[column] - min_val) /\n",
    "                                         (max_val - min_val)) * 550 + 300\n",
    "\n",
    "min_max_columns = [\"numberOfLiquidation\", \"borrow_per_deposit\"]\n",
    "\n",
    "for column in min_max_columns:\n",
    "    min_val = df_normalized[column].min()\n",
    "    max_val = df_normalized[column].max()\n",
    "    df_normalized[column] = ((max_val - df_normalized[column]) /\n",
    "                                     (max_val - min_val)) * 550 + 300\n",
    "\n",
    "df_normalized['main_label'] = main_label_column\n",
    "df_normalized['sub_label'] = sub_label_column"
   ]
  },
  {
   "cell_type": "code",
   "execution_count": 158,
   "metadata": {},
   "outputs": [],
   "source": [
    "def score(label):\n",
    "    if label == 0:\n",
    "        return np.random.randint(300, 580)\n",
    "    if label == 1:\n",
    "        return np.random.randint(580, 670)\n",
    "    if label == 2:\n",
    "        return np.random.randint(670, 740)\n",
    "    if label == 3:\n",
    "        return np.random.randint(740, 800)\n",
    "    if label == 4:\n",
    "        return np.random.randint(800, 850)\n",
    "\n",
    "\n",
    "def labeling(scores):\n",
    "    label = []\n",
    "    for score in scores:\n",
    "        if score < 580:\n",
    "            label.append(0)\n",
    "        elif score >= 580 and score < 670:\n",
    "            label.append(1)\n",
    "        elif score >= 670 and score < 740:\n",
    "            label.append(2)\n",
    "        elif score >= 740 and score < 800:\n",
    "            label.append(3)\n",
    "        elif score >= 800:\n",
    "            label.append(4)\n",
    "    return np.array(label)"
   ]
  },
  {
   "cell_type": "code",
   "execution_count": 159,
   "metadata": {},
   "outputs": [],
   "source": [
    "X = np.array(\n",
    "    df_normalized[\n",
    "        [\n",
    "            \"balanceInUSD\",\n",
    "            # \"borrowInUSD\",\n",
    "            # \"depositInUSD\",\n",
    "            \"averageTotalAsset\",\n",
    "            \"frequencyMountOfTransaction\",\n",
    "            \"borrow_per_balance\",\n",
    "            \"deposit_per_balance\",\n",
    "            \"borrow_per_deposit\",\n",
    "            \"totalValueOfLiquidation\",\n",
    "            \"numberOfLiquidation\",\n",
    "            \"frequencyOfTransaction\",\n",
    "            \"frequencyOfDappTransactions\",\n",
    "            \"numberOfInteractedDapps\",\n",
    "            \"typesOfInteractedDapps\",\n",
    "            \"numberOfReputableDapps\",\n",
    "            \"age\",\n",
    "        ]\n",
    "    ].values\n",
    ")\n",
    "main_y = df_normalized[\"main_label\"].values\n",
    "sub_y = df_normalized[\"sub_label\"].values\n",
    "\n",
    "X_train, X_test, main_y_train, main_y_test, sub_y_train, sub_y_test = train_test_split(\n",
    "    X, main_y, sub_y, test_size=0.2, random_state=42\n",
    ")\n",
    "# Chuẩn bị dữ liệu"
   ]
  },
  {
   "cell_type": "code",
   "execution_count": 160,
   "metadata": {},
   "outputs": [
    {
     "data": {
      "text/plain": [
       "97604"
      ]
     },
     "execution_count": 160,
     "metadata": {},
     "output_type": "execute_result"
    }
   ],
   "source": [
    "X_train.shape[0]"
   ]
  },
  {
   "cell_type": "code",
   "execution_count": 161,
   "metadata": {},
   "outputs": [],
   "source": [
    "# a= [-1.21308685  4.47542451 -5.51931091  3.71804369  2.0969602   4.80669811\n",
    "#  -2.03392303  7.7603754   4.16328747 -4.93222656  4.23313938 -8.20674732\n",
    "#  -6.96695354 -0.1264665 ]"
   ]
  },
  {
   "cell_type": "code",
   "execution_count": 162,
   "metadata": {},
   "outputs": [
    {
     "name": "stdout",
     "output_type": "stream",
     "text": [
      "Vector trọng số tối ưu: [-0.18204834  0.74520797  0.62702427  0.26669942  0.39286332 -0.29246011\n",
      "  0.77407043 -0.30844323  0.53951053  0.26871575 -0.08264221  0.65244038\n",
      "  0.58675265 -0.52372434]\n"
     ]
    }
   ],
   "source": [
    "import numpy as np\n",
    "\n",
    "def new_error_func(y, sub_y, y_pred):\n",
    "    errors = [0] * len(y_pred)\n",
    "    # Lặp qua từng phần tử trong mảng\n",
    "    for i in range(len(y_pred)):\n",
    "        if y[i] == sub_y[i]:\n",
    "            errors[i] = y_pred[i] - y[i] \n",
    "        else :\n",
    "            min_value = min(y[i], sub_y[i])\n",
    "            max_value = max(y[i], sub_y[i])\n",
    "            if y_pred[i] <= min_value:\n",
    "                errors[i] = min_value - y_pred[i]\n",
    "            if y_pred[i] >= max_value:\n",
    "                errors[i] = y_pred[i] - max_value\n",
    "    return errors\n",
    "\n",
    "# Hàm tính giá trị của hàm lỗi (MSE)\n",
    "def mean_squared_error(X, y, w):\n",
    "    n = len(y)\n",
    "    y_pred = labeling(np.dot(X, w))\n",
    "    error = y_pred - y\n",
    "    mse = np.sum(error ** 2) / n\n",
    "    return mse\n",
    "\n",
    "# Hàm tính gradient của hàm lỗi (MSE)\n",
    "def gradient_mean_squared_error(X, y, sub_y, w):\n",
    "    n = len(y)\n",
    "    y_pred = labeling(np.dot(X, w))\n",
    "    # error = y_pred - y\n",
    "    error = new_error_func(y, sub_y, y_pred)\n",
    "    gradient = 2 * np.dot(X.T, error) / n\n",
    "    return gradient\n",
    "\n",
    "# Gradient descent để tối ưu hóa hàm lỗi (MSE)\n",
    "def stochastic_gradient_descent(X, y, sub_y, learning_rate=0.001, num_iterations=350, decay_rate=0.95, tol=1e-5):\n",
    "    w = np.random.uniform(0, 1, X.shape[1])\n",
    "    prev_loss = float('inf')\n",
    "    for i in range(num_iterations):\n",
    "        random_index = np.random.randint(0, len(X))\n",
    "        X_sample = X[random_index:random_index+1]\n",
    "        y_sample = y[random_index:random_index+1]\n",
    "        sub_y_sample = sub_y[random_index:random_index+1]\n",
    "        \n",
    "        grad = gradient_mean_squared_error(X_sample, y_sample, sub_y_sample, w)\n",
    "        \n",
    "        w -= learning_rate * grad\n",
    "        learning_rate *= decay_rate  # Decay learning rate\n",
    "        \n",
    "        # if i % (num_iterations/10) == 0:\n",
    "        #     loss = mean_squared_error(X, y, w)\n",
    "        #     print(f\"Iteration {i}: Loss = {loss}\")\n",
    "    return w\n",
    "\n",
    "# Áp dụng gradient descent để tối ưu hóa hàm lỗi (MSE)\n",
    "learned_weights = stochastic_gradient_descent(X_train, main_y_train, sub_y_train)\n",
    "\n",
    "print(\"Vector trọng số tối ưu:\", learned_weights)\n"
   ]
  },
  {
   "cell_type": "code",
   "execution_count": 163,
   "metadata": {},
   "outputs": [],
   "source": [
    "def new_accuracy(y_train, sub_y_train, y_pred):\n",
    "    y_train = np.array(y_train)\n",
    "    sub_y_train = np.array(sub_y_train)\n",
    "    y_pred = np.array(y_pred)\n",
    "    condition = np.logical_or(y_pred == sub_y_train, y_pred == y_train)\n",
    "    count = np.sum(condition)\n",
    "    accuracy = count / len(y_train)\n",
    "    return accuracy"
   ]
  },
  {
   "cell_type": "code",
   "execution_count": 164,
   "metadata": {},
   "outputs": [],
   "source": [
    "max1 = 0\n",
    "res = None\n",
    "for i in range(1000):\n",
    "    learned_weights = stochastic_gradient_descent(X_train, main_y_train, sub_y_train)\n",
    "    pred = labeling(X_test.dot(learned_weights))\n",
    "    acc = new_accuracy(main_y_test, sub_y_test, pred)\n",
    "    if acc > max1:\n",
    "        max1 = acc\n",
    "        res = learned_weights"
   ]
  },
  {
   "cell_type": "code",
   "execution_count": 167,
   "metadata": {},
   "outputs": [
    {
     "name": "stdout",
     "output_type": "stream",
     "text": [
      "0.8356282271944923 [ 0.24493971  0.58347622 -0.12170834 -0.0315793   0.41891079 -0.34808733\n",
      "  0.61980345  0.37808545 -0.15132842 -0.06983328  0.10666237  0.30315643\n",
      " -0.08807829  0.07299206]\n"
     ]
    }
   ],
   "source": [
    "print(max1, res)"
   ]
  },
  {
   "cell_type": "code",
   "execution_count": 165,
   "metadata": {},
   "outputs": [
    {
     "name": "stdout",
     "output_type": "stream",
     "text": [
      "0.39566428981231044\n"
     ]
    }
   ],
   "source": [
    "pred = labeling(X_test.dot(learned_weights))\n",
    "print(new_accuracy(main_y_test, sub_y_test, pred))"
   ]
  },
  {
   "cell_type": "code",
   "execution_count": 166,
   "metadata": {},
   "outputs": [
    {
     "name": "stdout",
     "output_type": "stream",
     "text": [
      "Phần tử 0 xuất hiện 12618 lần\n",
      "Phần tử 1 xuất hiện 11781 lần\n",
      "Phần tử 3 xuất hiện 2 lần\n",
      "Phần tử 4 xuất hiện 1 lần\n"
     ]
    }
   ],
   "source": [
    "unique_elements, counts = np.unique(pred, return_counts=True)\n",
    "\n",
    "for element, count in zip(unique_elements, counts):\n",
    "    print(\"Phần tử\", element, \"xuất hiện\", count, \"lần\")\n"
   ]
  }
 ],
 "metadata": {
  "kernelspec": {
   "display_name": "Python 3",
   "language": "python",
   "name": "python3"
  },
  "language_info": {
   "codemirror_mode": {
    "name": "ipython",
    "version": 3
   },
   "file_extension": ".py",
   "mimetype": "text/x-python",
   "name": "python",
   "nbconvert_exporter": "python",
   "pygments_lexer": "ipython3",
   "version": "3.11.2"
  }
 },
 "nbformat": 4,
 "nbformat_minor": 2
}
