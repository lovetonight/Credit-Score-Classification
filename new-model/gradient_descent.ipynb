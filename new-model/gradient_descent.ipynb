{
 "cells": [
  {
   "cell_type": "code",
   "execution_count": 12,
   "metadata": {},
   "outputs": [],
   "source": [
    "import pandas as pd\n",
    "from sklearn.metrics import accuracy_score\n",
    "import numpy as np\n",
    "from datetime import datetime, timedelta\n",
    "import matplotlib.pyplot as plt\n",
    "import numpy as np\n",
    "import tensorflow as tf\n",
    "from detect_outlier import *\n",
    "from sklearn.model_selection import train_test_split\n"
   ]
  },
  {
   "cell_type": "code",
   "execution_count": 13,
   "metadata": {},
   "outputs": [],
   "source": [
    "df = read_data_no_outlier(0)"
   ]
  },
  {
   "cell_type": "code",
   "execution_count": 14,
   "metadata": {},
   "outputs": [],
   "source": [
    "df_normalized =df.drop(\"address\", axis= 1).drop(\"createdAt\", axis= 1).drop(\"zscore\", axis= 1)\n",
    "main_label_column = df['main_label']\n",
    "sub_label_column = df['sub_label']\n",
    "df_normalized = (df_normalized - df_normalized.min()) / (df_normalized.max() - df_normalized.min())\n",
    "df_normalized = df_normalized * 550 + 300\n",
    "df_normalized['main_label'] = main_label_column\n",
    "df_normalized['sub_label'] = sub_label_column"
   ]
  },
  {
   "cell_type": "code",
   "execution_count": 15,
   "metadata": {},
   "outputs": [],
   "source": [
    "def score(label):\n",
    "    if label == 0:\n",
    "        return np.random.randint(300, 580)\n",
    "    if label == 1:\n",
    "        return np.random.randint(580, 670)\n",
    "    if label == 2:\n",
    "        return np.random.randint(670, 740)\n",
    "    if label == 3:\n",
    "        return np.random.randint(740, 800)\n",
    "    if label == 4:\n",
    "        return np.random.randint(800, 850)\n",
    "\n",
    "\n",
    "def labeling(scores):\n",
    "    label = []\n",
    "    for score in scores:\n",
    "        if score < 580:\n",
    "            label.append(0)\n",
    "        elif score >= 580 and score < 670:\n",
    "            label.append(1)\n",
    "        elif score >= 670 and score < 740:\n",
    "            label.append(2)\n",
    "        elif score >= 740 and score < 800:\n",
    "            label.append(3)\n",
    "        elif score >= 800:\n",
    "            label.append(4)\n",
    "    return np.array(label)"
   ]
  },
  {
   "cell_type": "code",
   "execution_count": null,
   "metadata": {},
   "outputs": [],
   "source": []
  },
  {
   "cell_type": "code",
   "execution_count": 16,
   "metadata": {},
   "outputs": [],
   "source": [
    "X = np.array(df_normalized[\n",
    "    [\n",
    "        \"balanceInUSD\",\n",
    "        # \"borrowInUSD\",\n",
    "        # \"depositInUSD\",\n",
    "        \"averageTotalAsset\",\n",
    "        \"frequencyMountOfTransaction\",\n",
    "        \"borrow_per_balance\",\n",
    "        \"deposit_per_balance\",\n",
    "        \"borrow_per_deposit\",\n",
    "        \"totalValueOfLiquidation\",\n",
    "        \"numberOfLiquidation\",\n",
    "        \"frequencyOfTransaction\",\n",
    "        \"frequencyOfDappTransactions\",\n",
    "        \"numberOfInteractedDapps\",\n",
    "        \"typesOfInteractedDapps\",\n",
    "        \"numberOfReputableDapps\",\n",
    "        \"age\",\n",
    "    ]\n",
    "].values)\n",
    "y = df_normalized[\"main_label\"].values\n",
    "new_y = np.array([score(y[i]) for i in range(len(y))])\n",
    "\n",
    "X_train, X_test, new_y_train, new_y_test, y_train, y_test  = train_test_split(\n",
    "            X, new_y, y, test_size=0.2, random_state=42\n",
    "        )\n",
    "# Chuẩn bị dữ liệu\n"
   ]
  },
  {
   "cell_type": "code",
   "execution_count": 17,
   "metadata": {},
   "outputs": [
    {
     "data": {
      "text/plain": [
       "16535"
      ]
     },
     "execution_count": 17,
     "metadata": {},
     "output_type": "execute_result"
    }
   ],
   "source": [
    "X_train.shape[0]"
   ]
  },
  {
   "cell_type": "code",
   "execution_count": 18,
   "metadata": {},
   "outputs": [],
   "source": [
    "# a= [-1.21308685  4.47542451 -5.51931091  3.71804369  2.0969602   4.80669811\n",
    "#  -2.03392303  7.7603754   4.16328747 -4.93222656  4.23313938 -8.20674732\n",
    "#  -6.96695354 -0.1264665 ]"
   ]
  },
  {
   "cell_type": "code",
   "execution_count": 19,
   "metadata": {},
   "outputs": [
    {
     "data": {
      "text/plain": [
       "2.0"
      ]
     },
     "execution_count": 19,
     "metadata": {},
     "output_type": "execute_result"
    }
   ],
   "source": [
    "y_test[1]"
   ]
  },
  {
   "cell_type": "code",
   "execution_count": 20,
   "metadata": {},
   "outputs": [
    {
     "name": "stdout",
     "output_type": "stream",
     "text": [
      "Iteration 0: Loss = 4.116722104626549\n",
      "Iteration 1000: Loss = 2.2719685515573027\n",
      "Iteration 2000: Loss = 2.2719685515573027\n",
      "Iteration 3000: Loss = 2.2719685515573027\n",
      "Iteration 4000: Loss = 2.2719685515573027\n",
      "Iteration 5000: Loss = 2.2719685515573027\n",
      "Iteration 6000: Loss = 2.2719685515573027\n",
      "Iteration 7000: Loss = 2.2719685515573027\n",
      "Iteration 8000: Loss = 2.2719685515573027\n",
      "Iteration 9000: Loss = 2.2719685515573027\n",
      "Vector trọng số tối ưu: [-1.0271625   8.45193282 -0.04746718  7.53956989 -7.27798467 -8.02956583\n",
      " -9.414798    4.55514751 -5.13683007  4.70694817 -1.87240563  2.91499178\n",
      "  0.99902865  3.84368889]\n"
     ]
    }
   ],
   "source": [
    "import numpy as np\n",
    "\n",
    "def new_error_func(y, sub_y, y_pred):\n",
    "    errors = [0] * len(y_pred)\n",
    "    # Lặp qua từng phần tử trong mảng\n",
    "    for i in range(len(y_pred)):\n",
    "        if y[i] > sub_y[i]:\n",
    "            errors[i] = y_pred[i] - y[i] \n",
    "        else:\n",
    "            errors[i] = y_pred[i] - sub_y[i] \n",
    "    \n",
    "    return errors\n",
    "\n",
    "# Hàm tính giá trị của hàm lỗi (MSE)\n",
    "def mean_squared_error(X, y, w):\n",
    "    n = len(y)\n",
    "    y_pred = labeling(np.dot(X, w))\n",
    "    mse = np.sum((y - y_pred) ** 2) / n\n",
    "    return mse\n",
    "\n",
    "# Hàm tính gradient của hàm lỗi (MSE)\n",
    "def gradient_mean_squared_error(X, y, w):\n",
    "    n = len(y)\n",
    "    y_pred = labeling(np.dot(X, w))\n",
    "    \n",
    "    error = y_pred - y\n",
    "    gradient = 2 * np.dot(X.T, error) / n\n",
    "    return gradient\n",
    "\n",
    "# Gradient descent để tối ưu hóa hàm lỗi (MSE)\n",
    "def stochastic_gradient_descent(X, y, learning_rate=0.01, num_iterations=10000, decay_rate=0.95, tol=1e-5):\n",
    "    w = np.random.uniform(-10, 10, X.shape[1])\n",
    "    prev_loss = float('inf')\n",
    "    for i in range(num_iterations):\n",
    "        random_index = np.random.randint(0, len(X))\n",
    "        X_sample = X[random_index:random_index+1]\n",
    "        y_sample = y[random_index:random_index+1]\n",
    "        \n",
    "        grad = gradient_mean_squared_error(X_sample, y_sample, w)\n",
    "        \n",
    "        w -= learning_rate * grad\n",
    "        learning_rate *= decay_rate  # Decay learning rate\n",
    "        \n",
    "        if i % (num_iterations/10) == 0:\n",
    "            loss = mean_squared_error(X, y, w)\n",
    "            print(f\"Iteration {i}: Loss = {loss}\")\n",
    "    return w\n",
    "\n",
    "# Áp dụng gradient descent để tối ưu hóa hàm lỗi (MSE)\n",
    "learned_weights = stochastic_gradient_descent(X_train, y_train)\n",
    "\n",
    "print(\"Vector trọng số tối ưu:\", learned_weights)\n"
   ]
  },
  {
   "cell_type": "code",
   "execution_count": 21,
   "metadata": {},
   "outputs": [
    {
     "name": "stdout",
     "output_type": "stream",
     "text": [
      "0.30672472181906146\n"
     ]
    }
   ],
   "source": [
    "pred = labeling(X_test.dot(learned_weights))\n",
    "print(accuracy_score(y_test, pred))"
   ]
  },
  {
   "cell_type": "code",
   "execution_count": 22,
   "metadata": {},
   "outputs": [
    {
     "name": "stdout",
     "output_type": "stream",
     "text": [
      "Phần tử 0 xuất hiện 707 lần\n",
      "Phần tử 1 xuất hiện 506 lần\n",
      "Phần tử 2 xuất hiện 978 lần\n",
      "Phần tử 3 xuất hiện 523 lần\n",
      "Phần tử 4 xuất hiện 1420 lần\n"
     ]
    }
   ],
   "source": [
    "import numpy as np\n",
    "\n",
    "unique_elements, counts = np.unique(pred, return_counts=True)\n",
    "\n",
    "for element, count in zip(unique_elements, counts):\n",
    "    print(\"Phần tử\", element, \"xuất hiện\", count, \"lần\")\n"
   ]
  }
 ],
 "metadata": {
  "kernelspec": {
   "display_name": "Python 3",
   "language": "python",
   "name": "python3"
  },
  "language_info": {
   "codemirror_mode": {
    "name": "ipython",
    "version": 3
   },
   "file_extension": ".py",
   "mimetype": "text/x-python",
   "name": "python",
   "nbconvert_exporter": "python",
   "pygments_lexer": "ipython3",
   "version": "3.11.2"
  }
 },
 "nbformat": 4,
 "nbformat_minor": 2
}
